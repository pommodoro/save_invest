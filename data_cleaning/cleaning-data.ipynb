{
 "cells": [
  {
   "cell_type": "code",
   "execution_count": 19,
   "metadata": {},
   "outputs": [],
   "source": [
    "import pandas as pd\n",
    "import numpy as np\n",
    "Save = pd.read_csv(\"save_data.csv\")"
   ]
  },
  {
   "cell_type": "code",
   "execution_count": 24,
   "metadata": {},
   "outputs": [
    {
     "data": {
      "text/html": [
       "<div>\n",
       "<style scoped>\n",
       "    .dataframe tbody tr th:only-of-type {\n",
       "        vertical-align: middle;\n",
       "    }\n",
       "\n",
       "    .dataframe tbody tr th {\n",
       "        vertical-align: top;\n",
       "    }\n",
       "\n",
       "    .dataframe thead th {\n",
       "        text-align: right;\n",
       "    }\n",
       "</style>\n",
       "<table border=\"1\" class=\"dataframe\">\n",
       "  <thead>\n",
       "    <tr style=\"text-align: right;\">\n",
       "      <th></th>\n",
       "      <th>participant.id_in_session</th>\n",
       "      <th>participant.code</th>\n",
       "      <th>participant._is_bot</th>\n",
       "      <th>participant._index_in_pages</th>\n",
       "      <th>participant._max_page_index</th>\n",
       "      <th>participant._current_app_name</th>\n",
       "      <th>participant._current_page_name</th>\n",
       "      <th>participant.time_started_utc</th>\n",
       "      <th>participant.visited</th>\n",
       "      <th>participant.payoff</th>\n",
       "      <th>...</th>\n",
       "      <th>stage2.30.group.id_in_subsession</th>\n",
       "      <th>stage2.30.subsession.round_number</th>\n",
       "      <th>stage2.31.player.id_in_group</th>\n",
       "      <th>stage2.31.player.payoff</th>\n",
       "      <th>stage2.31.group.id_in_subsession</th>\n",
       "      <th>stage2.31.subsession.round_number</th>\n",
       "      <th>stage2.32.player.id_in_group</th>\n",
       "      <th>stage2.32.player.payoff</th>\n",
       "      <th>stage2.32.group.id_in_subsession</th>\n",
       "      <th>stage2.32.subsession.round_number</th>\n",
       "    </tr>\n",
       "  </thead>\n",
       "  <tbody>\n",
       "    <tr>\n",
       "      <th>0</th>\n",
       "      <td>1</td>\n",
       "      <td>1ftdnzna</td>\n",
       "      <td>0</td>\n",
       "      <td>26</td>\n",
       "      <td>82</td>\n",
       "      <td>stage2</td>\n",
       "      <td>MplPage</td>\n",
       "      <td>2022-03-03 19:06:26.387752</td>\n",
       "      <td>1</td>\n",
       "      <td>0.0</td>\n",
       "      <td>...</td>\n",
       "      <td>1</td>\n",
       "      <td>30</td>\n",
       "      <td>1</td>\n",
       "      <td>0.0</td>\n",
       "      <td>1</td>\n",
       "      <td>31</td>\n",
       "      <td>1</td>\n",
       "      <td>0.0</td>\n",
       "      <td>1</td>\n",
       "      <td>32</td>\n",
       "    </tr>\n",
       "  </tbody>\n",
       "</table>\n",
       "<p>1 rows × 208 columns</p>\n",
       "</div>"
      ],
      "text/plain": [
       "   participant.id_in_session participant.code  participant._is_bot  \\\n",
       "0                          1         1ftdnzna                    0   \n",
       "\n",
       "   participant._index_in_pages  participant._max_page_index  \\\n",
       "0                           26                           82   \n",
       "\n",
       "  participant._current_app_name participant._current_page_name  \\\n",
       "0                        stage2                        MplPage   \n",
       "\n",
       "  participant.time_started_utc  participant.visited  participant.payoff  ...  \\\n",
       "0   2022-03-03 19:06:26.387752                    1                 0.0  ...   \n",
       "\n",
       "  stage2.30.group.id_in_subsession  stage2.30.subsession.round_number  \\\n",
       "0                                1                                 30   \n",
       "\n",
       "   stage2.31.player.id_in_group  stage2.31.player.payoff  \\\n",
       "0                             1                      0.0   \n",
       "\n",
       "  stage2.31.group.id_in_subsession  stage2.31.subsession.round_number  \\\n",
       "0                                1                                 31   \n",
       "\n",
       "  stage2.32.player.id_in_group stage2.32.player.payoff  \\\n",
       "0                            1                     0.0   \n",
       "\n",
       "  stage2.32.group.id_in_subsession stage2.32.subsession.round_number  \n",
       "0                                1                                32  \n",
       "\n",
       "[1 rows x 208 columns]"
      ]
     },
     "execution_count": 24,
     "metadata": {},
     "output_type": "execute_result"
    }
   ],
   "source": [
    "Save.head(1)"
   ]
  },
  {
   "cell_type": "code",
   "execution_count": 21,
   "metadata": {},
   "outputs": [],
   "source": [
    "#Drops all empty columns\n",
    "Save.dropna(how='all', axis=1, inplace=True)"
   ]
  },
  {
   "cell_type": "code",
   "execution_count": 23,
   "metadata": {},
   "outputs": [
    {
     "data": {
      "text/plain": [
       "(1, 208)"
      ]
     },
     "execution_count": 23,
     "metadata": {},
     "output_type": "execute_result"
    }
   ],
   "source": [
    "Save.shape"
   ]
  },
  {
   "cell_type": "code",
   "execution_count": 99,
   "metadata": {},
   "outputs": [],
   "source": [
    "#TO DO: iterate through each cell, which has an array\n",
    "\n",
    "#array to store all rounds fixed/variable sums\n",
    "sumListVariable = []\n",
    "\n",
    "#gets all cells of options_chosen (except rn there's it's not every 5 steps because 4-120 don't have responses)\n",
    "FV = Save.loc[:,'stage2.1.player.options_chosen':'stage2.3.player.options_chosen':5]\n",
    "#this needs to be looped, right now just gets first round\n",
    "array1 = FV.iloc[:,0]\n",
    "#array1[0] calls the entire array for first round, sums up f values\n",
    "#OR would we replace that entire cell with the sum of f?\n",
    "sumListVariable.append(sum(1 for i in array1[0] if i == \"f\"))"
   ]
  },
  {
   "cell_type": "code",
   "execution_count": 106,
   "metadata": {},
   "outputs": [
    {
     "name": "stdout",
     "output_type": "stream",
     "text": [
      "10\t4\t7\t"
     ]
    },
    {
     "name": "stderr",
     "output_type": "stream",
     "text": [
      "/Users/victoriageh/opt/anaconda3/lib/python3.9/site-packages/pandas/core/indexing.py:1732: SettingWithCopyWarning: \n",
      "A value is trying to be set on a copy of a slice from a DataFrame\n",
      "\n",
      "See the caveats in the documentation: https://pandas.pydata.org/pandas-docs/stable/user_guide/indexing.html#returning-a-view-versus-a-copy\n",
      "  self._setitem_single_block(indexer, value, name)\n",
      "/Users/victoriageh/opt/anaconda3/lib/python3.9/site-packages/pandas/core/indexing.py:723: SettingWithCopyWarning: \n",
      "A value is trying to be set on a copy of a slice from a DataFrame\n",
      "\n",
      "See the caveats in the documentation: https://pandas.pydata.org/pandas-docs/stable/user_guide/indexing.html#returning-a-view-versus-a-copy\n",
      "  iloc._setitem_with_indexer(indexer, value, self.name)\n"
     ]
    }
   ],
   "source": [
    "# NEED TO FIX SO NOT CALLING A COPY \n",
    "#Iterates through all rows where there's a list of f and v\n",
    "for i in range(Save.loc[:,'stage2.1.player.options_chosen':'stage2.3.player.options_chosen':5].shape[0]): #iterate over rows\n",
    "    for j in range(Save.loc[:,'stage2.1.player.options_chosen':'stage2.3.player.options_chosen':5].shape[1]): #iterate over columns\n",
    "        val = sum(1 for i in Save.loc[:,'stage2.1.player.options_chosen':'stage2.3.player.options_chosen':5].iloc[i,j] if i == \"f\") #sum f\n",
    "        FV.iloc[i,j] = val #replace array with sum of f\n",
    "        print(val, end=\"\\t\")\n",
    "    #print()"
   ]
  },
  {
   "cell_type": "code",
   "execution_count": 103,
   "metadata": {},
   "outputs": [
    {
     "data": {
      "text/plain": [
       "10"
      ]
     },
     "execution_count": 103,
     "metadata": {},
     "output_type": "execute_result"
    }
   ],
   "source": [
    "np.array(FV.iloc[:,0])[0]"
   ]
  },
  {
   "cell_type": "code",
   "execution_count": 107,
   "metadata": {},
   "outputs": [
    {
     "data": {
      "text/html": [
       "<div>\n",
       "<style scoped>\n",
       "    .dataframe tbody tr th:only-of-type {\n",
       "        vertical-align: middle;\n",
       "    }\n",
       "\n",
       "    .dataframe tbody tr th {\n",
       "        vertical-align: top;\n",
       "    }\n",
       "\n",
       "    .dataframe thead th {\n",
       "        text-align: right;\n",
       "    }\n",
       "</style>\n",
       "<table border=\"1\" class=\"dataframe\">\n",
       "  <thead>\n",
       "    <tr style=\"text-align: right;\">\n",
       "      <th></th>\n",
       "      <th>stage2.1.player.options_chosen</th>\n",
       "      <th>stage2.2.player.options_chosen</th>\n",
       "      <th>stage2.3.player.options_chosen</th>\n",
       "    </tr>\n",
       "  </thead>\n",
       "  <tbody>\n",
       "    <tr>\n",
       "      <th>0</th>\n",
       "      <td>10</td>\n",
       "      <td>4</td>\n",
       "      <td>7</td>\n",
       "    </tr>\n",
       "  </tbody>\n",
       "</table>\n",
       "</div>"
      ],
      "text/plain": [
       "  stage2.1.player.options_chosen stage2.2.player.options_chosen  \\\n",
       "0                             10                              4   \n",
       "\n",
       "  stage2.3.player.options_chosen  \n",
       "0                              7  "
      ]
     },
     "execution_count": 107,
     "metadata": {},
     "output_type": "execute_result"
    }
   ],
   "source": [
    "FV"
   ]
  },
  {
   "cell_type": "code",
   "execution_count": null,
   "metadata": {},
   "outputs": [],
   "source": [
    "#saves data into new CSV\n",
    "#Save.to_csv('Save_Clean.csv')"
   ]
  }
 ],
 "metadata": {
  "interpreter": {
   "hash": "31f2aee4e71d21fbe5cf8b01ff0e069b9275f58929596ceb00d14d90e3e16cd6"
  },
  "kernelspec": {
   "display_name": "Python 3 (ipykernel)",
   "language": "python",
   "name": "python3"
  },
  "language_info": {
   "codemirror_mode": {
    "name": "ipython",
    "version": 3
   },
   "file_extension": ".py",
   "mimetype": "text/x-python",
   "name": "python",
   "nbconvert_exporter": "python",
   "pygments_lexer": "ipython3",
   "version": "3.9.7"
  }
 },
 "nbformat": 4,
 "nbformat_minor": 2
}
