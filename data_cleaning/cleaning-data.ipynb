{
 "cells": [
  {
   "cell_type": "code",
   "execution_count": 18,
   "metadata": {},
   "outputs": [],
   "source": [
    "import pandas as pd\n",
    "import numpy as np\n",
    "Save = pd.read_csv(\"data_all.csv\")"
   ]
  },
  {
   "cell_type": "code",
   "execution_count": 19,
   "metadata": {},
   "outputs": [
    {
     "data": {
      "text/html": [
       "<div>\n",
       "<style scoped>\n",
       "    .dataframe tbody tr th:only-of-type {\n",
       "        vertical-align: middle;\n",
       "    }\n",
       "\n",
       "    .dataframe tbody tr th {\n",
       "        vertical-align: top;\n",
       "    }\n",
       "\n",
       "    .dataframe thead th {\n",
       "        text-align: right;\n",
       "    }\n",
       "</style>\n",
       "<table border=\"1\" class=\"dataframe\">\n",
       "  <thead>\n",
       "    <tr style=\"text-align: right;\">\n",
       "      <th></th>\n",
       "      <th>participant.id_in_session</th>\n",
       "      <th>participant.code</th>\n",
       "      <th>participant.label</th>\n",
       "      <th>participant._is_bot</th>\n",
       "      <th>participant._index_in_pages</th>\n",
       "      <th>participant._max_page_index</th>\n",
       "      <th>participant._current_app_name</th>\n",
       "      <th>participant._current_page_name</th>\n",
       "      <th>participant.time_started_utc</th>\n",
       "      <th>participant.visited</th>\n",
       "      <th>...</th>\n",
       "      <th>stage2.31.player.payoff</th>\n",
       "      <th>stage2.31.player.options_chosen</th>\n",
       "      <th>stage2.31.group.id_in_subsession</th>\n",
       "      <th>stage2.31.subsession.round_number</th>\n",
       "      <th>stage2.32.player.id_in_group</th>\n",
       "      <th>stage2.32.player.role</th>\n",
       "      <th>stage2.32.player.payoff</th>\n",
       "      <th>stage2.32.player.options_chosen</th>\n",
       "      <th>stage2.32.group.id_in_subsession</th>\n",
       "      <th>stage2.32.subsession.round_number</th>\n",
       "    </tr>\n",
       "  </thead>\n",
       "  <tbody>\n",
       "    <tr>\n",
       "      <th>0</th>\n",
       "      <td>1</td>\n",
       "      <td>8l5kgn7k</td>\n",
       "      <td>NaN</td>\n",
       "      <td>0</td>\n",
       "      <td>1104</td>\n",
       "      <td>1104</td>\n",
       "      <td>stage2</td>\n",
       "      <td>Results</td>\n",
       "      <td>05:20.2</td>\n",
       "      <td>1</td>\n",
       "      <td>...</td>\n",
       "      <td>0</td>\n",
       "      <td>[\"f\",\"f\",\"f\",\"f\",\"f\",\"f\",\"f\",\"f\",\"f\",\"v\",\"v\",\"...</td>\n",
       "      <td>1</td>\n",
       "      <td>31</td>\n",
       "      <td>1</td>\n",
       "      <td>NaN</td>\n",
       "      <td>0</td>\n",
       "      <td>[\"f\",\"f\",\"f\",\"f\",\"f\",\"f\",\"f\",\"f\",\"f\",\"f\",\"f\",\"...</td>\n",
       "      <td>1</td>\n",
       "      <td>32</td>\n",
       "    </tr>\n",
       "  </tbody>\n",
       "</table>\n",
       "<p>1 rows × 3387 columns</p>\n",
       "</div>"
      ],
      "text/plain": [
       "   participant.id_in_session participant.code  participant.label  \\\n",
       "0                          1         8l5kgn7k                NaN   \n",
       "\n",
       "   participant._is_bot  participant._index_in_pages  \\\n",
       "0                    0                         1104   \n",
       "\n",
       "   participant._max_page_index participant._current_app_name  \\\n",
       "0                         1104                        stage2   \n",
       "\n",
       "  participant._current_page_name participant.time_started_utc  \\\n",
       "0                        Results                      05:20.2   \n",
       "\n",
       "   participant.visited  ...  stage2.31.player.payoff  \\\n",
       "0                    1  ...                        0   \n",
       "\n",
       "                     stage2.31.player.options_chosen  \\\n",
       "0  [\"f\",\"f\",\"f\",\"f\",\"f\",\"f\",\"f\",\"f\",\"f\",\"v\",\"v\",\"...   \n",
       "\n",
       "   stage2.31.group.id_in_subsession  stage2.31.subsession.round_number  \\\n",
       "0                                 1                                 31   \n",
       "\n",
       "  stage2.32.player.id_in_group  stage2.32.player.role  \\\n",
       "0                            1                    NaN   \n",
       "\n",
       "   stage2.32.player.payoff                    stage2.32.player.options_chosen  \\\n",
       "0                        0  [\"f\",\"f\",\"f\",\"f\",\"f\",\"f\",\"f\",\"f\",\"f\",\"f\",\"f\",\"...   \n",
       "\n",
       "   stage2.32.group.id_in_subsession  stage2.32.subsession.round_number  \n",
       "0                                 1                                 32  \n",
       "\n",
       "[1 rows x 3387 columns]"
      ]
     },
     "execution_count": 19,
     "metadata": {},
     "output_type": "execute_result"
    }
   ],
   "source": [
    "Save.head(1)"
   ]
  },
  {
   "cell_type": "code",
   "execution_count": 20,
   "metadata": {},
   "outputs": [],
   "source": [
    "#Drops all empty columns\n",
    "Save.dropna(how='all', axis=1, inplace=True)"
   ]
  },
  {
   "cell_type": "code",
   "execution_count": 21,
   "metadata": {},
   "outputs": [
    {
     "data": {
      "text/plain": [
       "(2, 1300)"
      ]
     },
     "execution_count": 21,
     "metadata": {},
     "output_type": "execute_result"
    }
   ],
   "source": [
    "Save.shape"
   ]
  },
  {
   "cell_type": "code",
   "execution_count": 22,
   "metadata": {},
   "outputs": [
    {
     "data": {
      "text/html": [
       "<div>\n",
       "<style scoped>\n",
       "    .dataframe tbody tr th:only-of-type {\n",
       "        vertical-align: middle;\n",
       "    }\n",
       "\n",
       "    .dataframe tbody tr th {\n",
       "        vertical-align: top;\n",
       "    }\n",
       "\n",
       "    .dataframe thead th {\n",
       "        text-align: right;\n",
       "    }\n",
       "</style>\n",
       "<table border=\"1\" class=\"dataframe\">\n",
       "  <thead>\n",
       "    <tr style=\"text-align: right;\">\n",
       "      <th></th>\n",
       "      <th>participant.id_in_session</th>\n",
       "      <th>participant.code</th>\n",
       "      <th>participant._is_bot</th>\n",
       "      <th>participant._index_in_pages</th>\n",
       "      <th>participant._max_page_index</th>\n",
       "      <th>participant._current_app_name</th>\n",
       "      <th>participant._current_page_name</th>\n",
       "      <th>participant.time_started_utc</th>\n",
       "      <th>participant.visited</th>\n",
       "      <th>participant.payoff</th>\n",
       "      <th>...</th>\n",
       "      <th>stage2.31.player.id_in_group</th>\n",
       "      <th>stage2.31.player.payoff</th>\n",
       "      <th>stage2.31.player.options_chosen</th>\n",
       "      <th>stage2.31.group.id_in_subsession</th>\n",
       "      <th>stage2.31.subsession.round_number</th>\n",
       "      <th>stage2.32.player.id_in_group</th>\n",
       "      <th>stage2.32.player.payoff</th>\n",
       "      <th>stage2.32.player.options_chosen</th>\n",
       "      <th>stage2.32.group.id_in_subsession</th>\n",
       "      <th>stage2.32.subsession.round_number</th>\n",
       "    </tr>\n",
       "  </thead>\n",
       "  <tbody>\n",
       "    <tr>\n",
       "      <th>0</th>\n",
       "      <td>1</td>\n",
       "      <td>8l5kgn7k</td>\n",
       "      <td>0</td>\n",
       "      <td>1104</td>\n",
       "      <td>1104</td>\n",
       "      <td>stage2</td>\n",
       "      <td>Results</td>\n",
       "      <td>05:20.2</td>\n",
       "      <td>1</td>\n",
       "      <td>0</td>\n",
       "      <td>...</td>\n",
       "      <td>1</td>\n",
       "      <td>0</td>\n",
       "      <td>[\"f\",\"f\",\"f\",\"f\",\"f\",\"f\",\"f\",\"f\",\"f\",\"v\",\"v\",\"...</td>\n",
       "      <td>1</td>\n",
       "      <td>31</td>\n",
       "      <td>1</td>\n",
       "      <td>0</td>\n",
       "      <td>[\"f\",\"f\",\"f\",\"f\",\"f\",\"f\",\"f\",\"f\",\"f\",\"f\",\"f\",\"...</td>\n",
       "      <td>1</td>\n",
       "      <td>32</td>\n",
       "    </tr>\n",
       "  </tbody>\n",
       "</table>\n",
       "<p>1 rows × 1300 columns</p>\n",
       "</div>"
      ],
      "text/plain": [
       "   participant.id_in_session participant.code  participant._is_bot  \\\n",
       "0                          1         8l5kgn7k                    0   \n",
       "\n",
       "   participant._index_in_pages  participant._max_page_index  \\\n",
       "0                         1104                         1104   \n",
       "\n",
       "  participant._current_app_name participant._current_page_name  \\\n",
       "0                        stage2                        Results   \n",
       "\n",
       "  participant.time_started_utc  participant.visited  participant.payoff  ...  \\\n",
       "0                      05:20.2                    1                   0  ...   \n",
       "\n",
       "  stage2.31.player.id_in_group  stage2.31.player.payoff  \\\n",
       "0                            1                        0   \n",
       "\n",
       "                     stage2.31.player.options_chosen  \\\n",
       "0  [\"f\",\"f\",\"f\",\"f\",\"f\",\"f\",\"f\",\"f\",\"f\",\"v\",\"v\",\"...   \n",
       "\n",
       "   stage2.31.group.id_in_subsession  stage2.31.subsession.round_number  \\\n",
       "0                                 1                                 31   \n",
       "\n",
       "   stage2.32.player.id_in_group  stage2.32.player.payoff  \\\n",
       "0                             1                        0   \n",
       "\n",
       "                     stage2.32.player.options_chosen  \\\n",
       "0  [\"f\",\"f\",\"f\",\"f\",\"f\",\"f\",\"f\",\"f\",\"f\",\"f\",\"f\",\"...   \n",
       "\n",
       "  stage2.32.group.id_in_subsession stage2.32.subsession.round_number  \n",
       "0                                1                                32  \n",
       "\n",
       "[1 rows x 1300 columns]"
      ]
     },
     "execution_count": 22,
     "metadata": {},
     "output_type": "execute_result"
    }
   ],
   "source": [
    "Save.head(1)"
   ]
  },
  {
   "cell_type": "code",
   "execution_count": 23,
   "metadata": {},
   "outputs": [],
   "source": [
    "#TO DO: iterate through each cell, which has an array\n",
    "\n",
    "#array to store all rounds fixed/variable sums\n",
    "sumListVariable = []\n",
    "\n",
    "#gets all cells of options_chosen (except rn there's it's not every 5 steps because 4-120 don't have responses)\n",
    "FV = Save.loc[:,'stage2.1.player.options_chosen':'stage2.32.player.options_chosen':5]\n",
    "#this needs to be looped, right now just gets first round\n",
    "array1 = FV.iloc[:,0]\n",
    "#array1[0] calls the entire array for first round, sums up f values\n",
    "#OR would we replace that entire cell with the sum of f?\n",
    "sumListVariable.append(sum(1 for i in array1[0] if i == \"f\"))"
   ]
  },
  {
   "cell_type": "code",
   "execution_count": 24,
   "metadata": {},
   "outputs": [
    {
     "name": "stdout",
     "output_type": "stream",
     "text": [
      "43\t11\t17\t14\t17\t13\t15\t14\t14\t15\t12\t12\t15\t14\t11\t16\t21\t16\t43\t15\t13\t13\t12\t12\t12\t13\t15\t62\t11\t15\t9\t14\t43\t11\t17\t14\t17\t13\t15\t14\t14\t15\t12\t12\t15\t14\t11\t16\t21\t16\t43\t15\t13\t13\t12\t12\t12\t13\t15\t62\t11\t15\t9\t14\t"
     ]
    }
   ],
   "source": [
    "# NEED TO FIX SO NOT CALLING A COPY \n",
    "#Iterates through all rows where there's a list of f and v\n",
    "for i in range(Save.loc[:,'stage2.1.player.options_chosen':'stage2.32.player.options_chosen':5].shape[0]): #iterate over rows\n",
    "    for j in range(Save.loc[:,'stage2.1.player.options_chosen':'stage2.32.player.options_chosen':5].shape[1]): #iterate over columns\n",
    "        val = sum(1 for i in Save.loc[:,'stage2.1.player.options_chosen':'stage2.32.player.options_chosen':5].iloc[i,j] if i == \"f\") #sum f\n",
    "        FV.iloc[i,j] = val #replace array with sum of f\n",
    "        print(val, end=\"\\t\")\n",
    "    #print()"
   ]
  },
  {
   "cell_type": "code",
   "execution_count": 25,
   "metadata": {},
   "outputs": [
    {
     "data": {
      "text/plain": [
       "43"
      ]
     },
     "execution_count": 25,
     "metadata": {},
     "output_type": "execute_result"
    }
   ],
   "source": [
    "np.array(FV.iloc[:,0])[0]"
   ]
  },
  {
   "cell_type": "code",
   "execution_count": 26,
   "metadata": {},
   "outputs": [
    {
     "data": {
      "text/html": [
       "<div>\n",
       "<style scoped>\n",
       "    .dataframe tbody tr th:only-of-type {\n",
       "        vertical-align: middle;\n",
       "    }\n",
       "\n",
       "    .dataframe tbody tr th {\n",
       "        vertical-align: top;\n",
       "    }\n",
       "\n",
       "    .dataframe thead th {\n",
       "        text-align: right;\n",
       "    }\n",
       "</style>\n",
       "<table border=\"1\" class=\"dataframe\">\n",
       "  <thead>\n",
       "    <tr style=\"text-align: right;\">\n",
       "      <th></th>\n",
       "      <th>stage2.1.player.options_chosen</th>\n",
       "      <th>stage2.2.player.options_chosen</th>\n",
       "      <th>stage2.3.player.options_chosen</th>\n",
       "      <th>stage2.4.player.options_chosen</th>\n",
       "      <th>stage2.5.player.options_chosen</th>\n",
       "      <th>stage2.6.player.options_chosen</th>\n",
       "      <th>stage2.7.player.options_chosen</th>\n",
       "      <th>stage2.8.player.options_chosen</th>\n",
       "      <th>stage2.9.player.options_chosen</th>\n",
       "      <th>stage2.10.player.options_chosen</th>\n",
       "      <th>...</th>\n",
       "      <th>stage2.23.player.options_chosen</th>\n",
       "      <th>stage2.24.player.options_chosen</th>\n",
       "      <th>stage2.25.player.options_chosen</th>\n",
       "      <th>stage2.26.player.options_chosen</th>\n",
       "      <th>stage2.27.player.options_chosen</th>\n",
       "      <th>stage2.28.player.options_chosen</th>\n",
       "      <th>stage2.29.player.options_chosen</th>\n",
       "      <th>stage2.30.player.options_chosen</th>\n",
       "      <th>stage2.31.player.options_chosen</th>\n",
       "      <th>stage2.32.player.options_chosen</th>\n",
       "    </tr>\n",
       "  </thead>\n",
       "  <tbody>\n",
       "    <tr>\n",
       "      <th>0</th>\n",
       "      <td>43</td>\n",
       "      <td>11</td>\n",
       "      <td>17</td>\n",
       "      <td>14</td>\n",
       "      <td>17</td>\n",
       "      <td>13</td>\n",
       "      <td>15</td>\n",
       "      <td>14</td>\n",
       "      <td>14</td>\n",
       "      <td>15</td>\n",
       "      <td>...</td>\n",
       "      <td>12</td>\n",
       "      <td>12</td>\n",
       "      <td>12</td>\n",
       "      <td>13</td>\n",
       "      <td>15</td>\n",
       "      <td>62</td>\n",
       "      <td>11</td>\n",
       "      <td>15</td>\n",
       "      <td>9</td>\n",
       "      <td>14</td>\n",
       "    </tr>\n",
       "    <tr>\n",
       "      <th>1</th>\n",
       "      <td>43</td>\n",
       "      <td>11</td>\n",
       "      <td>17</td>\n",
       "      <td>14</td>\n",
       "      <td>17</td>\n",
       "      <td>13</td>\n",
       "      <td>15</td>\n",
       "      <td>14</td>\n",
       "      <td>14</td>\n",
       "      <td>15</td>\n",
       "      <td>...</td>\n",
       "      <td>12</td>\n",
       "      <td>12</td>\n",
       "      <td>12</td>\n",
       "      <td>13</td>\n",
       "      <td>15</td>\n",
       "      <td>62</td>\n",
       "      <td>11</td>\n",
       "      <td>15</td>\n",
       "      <td>9</td>\n",
       "      <td>14</td>\n",
       "    </tr>\n",
       "  </tbody>\n",
       "</table>\n",
       "<p>2 rows × 32 columns</p>\n",
       "</div>"
      ],
      "text/plain": [
       "  stage2.1.player.options_chosen stage2.2.player.options_chosen  \\\n",
       "0                             43                             11   \n",
       "1                             43                             11   \n",
       "\n",
       "  stage2.3.player.options_chosen stage2.4.player.options_chosen  \\\n",
       "0                             17                             14   \n",
       "1                             17                             14   \n",
       "\n",
       "  stage2.5.player.options_chosen stage2.6.player.options_chosen  \\\n",
       "0                             17                             13   \n",
       "1                             17                             13   \n",
       "\n",
       "  stage2.7.player.options_chosen stage2.8.player.options_chosen  \\\n",
       "0                             15                             14   \n",
       "1                             15                             14   \n",
       "\n",
       "  stage2.9.player.options_chosen stage2.10.player.options_chosen  ...  \\\n",
       "0                             14                              15  ...   \n",
       "1                             14                              15  ...   \n",
       "\n",
       "  stage2.23.player.options_chosen stage2.24.player.options_chosen  \\\n",
       "0                              12                              12   \n",
       "1                              12                              12   \n",
       "\n",
       "  stage2.25.player.options_chosen stage2.26.player.options_chosen  \\\n",
       "0                              12                              13   \n",
       "1                              12                              13   \n",
       "\n",
       "  stage2.27.player.options_chosen stage2.28.player.options_chosen  \\\n",
       "0                              15                              62   \n",
       "1                              15                              62   \n",
       "\n",
       "  stage2.29.player.options_chosen stage2.30.player.options_chosen  \\\n",
       "0                              11                              15   \n",
       "1                              11                              15   \n",
       "\n",
       "  stage2.31.player.options_chosen stage2.32.player.options_chosen  \n",
       "0                               9                              14  \n",
       "1                               9                              14  \n",
       "\n",
       "[2 rows x 32 columns]"
      ]
     },
     "execution_count": 26,
     "metadata": {},
     "output_type": "execute_result"
    }
   ],
   "source": [
    "FV"
   ]
  },
  {
   "cell_type": "code",
   "execution_count": 27,
   "metadata": {},
   "outputs": [],
   "source": [
    "FV.to_csv(\"stage_2.csv\") "
   ]
  },
  {
   "cell_type": "code",
   "execution_count": null,
   "metadata": {},
   "outputs": [],
   "source": [
    "#saves data into new CSV\n",
    "#Save.to_csv('Save_Clean.csv')"
   ]
  }
 ],
 "metadata": {
  "interpreter": {
   "hash": "31f2aee4e71d21fbe5cf8b01ff0e069b9275f58929596ceb00d14d90e3e16cd6"
  },
  "kernelspec": {
   "display_name": "Python 3 (ipykernel)",
   "language": "python",
   "name": "python3"
  },
  "language_info": {
   "codemirror_mode": {
    "name": "ipython",
    "version": 3
   },
   "file_extension": ".py",
   "mimetype": "text/x-python",
   "name": "python",
   "nbconvert_exporter": "python",
   "pygments_lexer": "ipython3",
   "version": "3.9.7"
  }
 },
 "nbformat": 4,
 "nbformat_minor": 2
}
